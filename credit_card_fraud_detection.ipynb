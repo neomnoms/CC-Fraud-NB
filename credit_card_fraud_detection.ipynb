{
 "cells": [
  {
   "cell_type": "markdown",
   "id": "07865c8b",
   "metadata": {},
   "source": [
    "# Credit Card Fraud Detection\n",
    "\n",
    "This notebook analyzes a dataset of credit card transactions to detect fraudulent activities using machine learning techniques. The goal is to identify fraudulent transactions with high accuracy and provide recommendations for reducing financial losses."
   ]
  },
  {
   "cell_type": "code",
   "execution_count": null,
   "id": "7b032854",
   "metadata": {},
   "outputs": [],
   "source": [
    "import pandas as pd\n",
    "import matplotlib.pyplot as plt\n",
    "from sklearn.model_selection import train_test_split\n",
    "from sklearn.preprocessing import StandardScaler\n",
    "from sklearn.utils import resample\n",
    "from sklearn.ensemble import RandomForestClassifier\n",
    "from sklearn.metrics import classification_report, confusion_matrix, roc_auc_score\n",
    "\n",
    "# Load dataset\n",
    "file_path = 'creditcard.csv'\n",
    "df = pd.read_csv(file_path)\n",
    "\n",
    "# Basic information\n",
    "print(df.info())\n",
    "print(df.head())\n",
    "print(df.describe())"
   ]
  },
  {
   "cell_type": "markdown",
   "id": "bd0890f7",
   "metadata": {},
   "source": [
    "### Class Distribution\n",
    "The target variable `Class` indicates:\n",
    "- 0: Legitimate transaction\n",
    "- 1: Fraudulent transaction"
   ]
  },
  {
   "cell_type": "code",
   "execution_count": null,
   "id": "7dc0af29",
   "metadata": {},
   "outputs": [],
   "source": [
    "# Class distribution\n",
    "class_distribution = df['Class'].value_counts()\n",
    "plt.figure(figsize=(6, 4))\n",
    "class_distribution.plot(kind='bar', color=['green', 'red'])\n",
    "plt.title(\"Class Distribution\")\n",
    "plt.xlabel(\"Class (0: Legitimate, 1: Fraudulent)\")\n",
    "plt.ylabel(\"Count\")\n",
    "plt.show()\n",
    "\n",
    "print(class_distribution)"
   ]
  },
  {
   "cell_type": "markdown",
   "id": "25b528c1",
   "metadata": {},
   "source": [
    "### Data Preprocessing\n",
    "- Standardize `Time` and `Amount`.\n",
    "- Handle class imbalance using undersampling."
   ]
  },
  {
   "cell_type": "code",
   "execution_count": null,
   "id": "2904a0e0",
   "metadata": {},
   "outputs": [],
   "source": [
    "# Features and target\n",
    "X = df.drop('Class', axis=1)\n",
    "y = df['Class']\n",
    "\n",
    "# Standardize 'Time' and 'Amount'\n",
    "scaler = StandardScaler()\n",
    "X[['Time', 'Amount']] = scaler.fit_transform(X[['Time', 'Amount']])\n",
    "\n",
    "# Train-test split\n",
    "X_train, X_test, y_train, y_test = train_test_split(X, y, test_size=0.3, random_state=42, stratify=y)\n",
    "\n",
    "# Combine train data\n",
    "train_data = pd.concat([X_train, y_train], axis=1)\n",
    "\n",
    "# Separate majority and minority classes\n",
    "legit = train_data[train_data['Class'] == 0]\n",
    "fraud = train_data[train_data['Class'] == 1]\n",
    "\n",
    "# Undersample majority class\n",
    "legit_undersampled = resample(legit, \n",
    "                              replace=False, \n",
    "                              n_samples=len(fraud), \n",
    "                              random_state=42)\n",
    "\n",
    "# Combine undersampled majority and minority classes\n",
    "train_balanced = pd.concat([legit_undersampled, fraud])\n",
    "X_train_bal = train_balanced.drop('Class', axis=1)\n",
    "y_train_bal = train_balanced['Class']\n",
    "\n",
    "# Check new class distribution\n",
    "print(y_train_bal.value_counts())"
   ]
  },
  {
   "cell_type": "markdown",
   "id": "a7e4a20f",
   "metadata": {},
   "source": [
    "### Model Building\n",
    "Train a **Random Forest Classifier** to detect fraudulent transactions."
   ]
  },
  {
   "cell_type": "code",
   "execution_count": null,
   "id": "1dda010f",
   "metadata": {},
   "outputs": [],
   "source": [
    "# Train Random Forest Classifier\n",
    "rf_model = RandomForestClassifier(random_state=42)\n",
    "rf_model.fit(X_train_bal, y_train_bal)\n",
    "\n",
    "# Predictions on test set\n",
    "y_pred = rf_model.predict(X_test)\n",
    "\n",
    "# Evaluate the model\n",
    "print(\"Confusion Matrix:\\n\", confusion_matrix(y_test, y_pred))\n",
    "print(\"Classification Report:\\n\", classification_report(y_test, y_pred))\n",
    "print(\"ROC AUC Score:\", roc_auc_score(y_test, y_pred))"
   ]
  },
  {
   "cell_type": "markdown",
   "id": "85cd452d",
   "metadata": {},
   "source": [
    "### Conclusion\n",
    "The Random Forest model was able to detect fraudulent transactions effectively, but further improvements can be made by:\n",
    "- Using oversampling techniques (e.g., SMOTE) to improve class balance.\n",
    "- Tuning hyperparameters for better performance.\n",
    "- Trying other algorithms like XGBoost, LightGBM, or anomaly detection methods."
   ]
  }
 ],
 "metadata": {
  "kernelspec": {
   "display_name": "Python 3 (ipykernel)",
   "language": "python",
   "name": "python3"
  },
  "language_info": {
   "codemirror_mode": {
    "name": "ipython",
    "version": 3
   },
   "file_extension": ".py",
   "mimetype": "text/x-python",
   "name": "python",
   "nbconvert_exporter": "python",
   "pygments_lexer": "ipython3",
   "version": "3.12.7"
  }
 },
 "nbformat": 4,
 "nbformat_minor": 5
}
